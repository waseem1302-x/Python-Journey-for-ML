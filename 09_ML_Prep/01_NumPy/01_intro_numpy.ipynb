{
 "cells": [
  {
   "cell_type": "markdown",
   "id": "3667ffc6",
   "metadata": {},
   "source": [
    "### Creation of an Array"
   ]
  },
  {
   "cell_type": "code",
   "execution_count": 1,
   "id": "085dd21d",
   "metadata": {},
   "outputs": [
    {
     "name": "stdout",
     "output_type": "stream",
     "text": [
      "5\n",
      "[2 3 4]\n",
      "[[2 3 4]\n",
      " [5 6 7]]\n"
     ]
    }
   ],
   "source": [
    "import numpy as np \n",
    "\n",
    "# different types of arrays\n",
    "\n",
    "scalar = np.array(5)\n",
    "vector = np.array([2,3,4])\n",
    "matrix = np.array([[2,3,4],[5,6,7]])\n",
    "\n",
    "\n",
    "print(scalar)\n",
    "print(vector)\n",
    "print(matrix)"
   ]
  },
  {
   "cell_type": "markdown",
   "id": "684ef3e0",
   "metadata": {},
   "source": [
    "### Properties of an Array"
   ]
  },
  {
   "cell_type": "code",
   "execution_count": 5,
   "id": "76b3ae4e",
   "metadata": {},
   "outputs": [
    {
     "name": "stdout",
     "output_type": "stream",
     "text": [
      "Dimention:  2\n",
      "Shape:  (2, 3)\n",
      "Size:  6\n",
      "Data Type:  int64\n"
     ]
    }
   ],
   "source": [
    "arr = np.array([[2,4,6],[8,10,12]])\n",
    "\n",
    "print(\"Dimention: \", arr.ndim)\n",
    "print(\"Shape: \", arr.shape)\n",
    "print(\"Size: \", arr.size)\n",
    "print(\"Data Type: \", arr.dtype)"
   ]
  },
  {
   "cell_type": "markdown",
   "id": "f335d51b",
   "metadata": {},
   "source": [
    "### NumPy Built-In Functions"
   ]
  },
  {
   "cell_type": "code",
   "execution_count": 12,
   "id": "74e5a1bb",
   "metadata": {},
   "outputs": [
    {
     "name": "stdout",
     "output_type": "stream",
     "text": [
      "[[1. 1. 1.]\n",
      " [1. 1. 1.]]\n",
      "[[7 7 7 7]\n",
      " [7 7 7 7]\n",
      " [7 7 7 7]]\n",
      "[1 3 5 7 9]\n"
     ]
    }
   ],
   "source": [
    "one = np.ones([2,3])\n",
    "full = np.full([3,4], 7)\n",
    "range = np.arange(1,11, 2)\n",
    "print(one)\n",
    "print(full)\n",
    "print(range)"
   ]
  }
 ],
 "metadata": {
  "kernelspec": {
   "display_name": "venv",
   "language": "python",
   "name": "python3"
  },
  "language_info": {
   "codemirror_mode": {
    "name": "ipython",
    "version": 3
   },
   "file_extension": ".py",
   "mimetype": "text/x-python",
   "name": "python",
   "nbconvert_exporter": "python",
   "pygments_lexer": "ipython3",
   "version": "3.13.2"
  }
 },
 "nbformat": 4,
 "nbformat_minor": 5
}
