{
 "cells": [
  {
   "cell_type": "markdown",
   "id": "3667ffc6",
   "metadata": {},
   "source": [
    "### Creation of an Array"
   ]
  },
  {
   "cell_type": "code",
   "execution_count": 1,
   "id": "085dd21d",
   "metadata": {},
   "outputs": [
    {
     "name": "stdout",
     "output_type": "stream",
     "text": [
      "5\n",
      "[2 3 4]\n",
      "[[2 3 4]\n",
      " [5 6 7]]\n"
     ]
    }
   ],
   "source": [
    "import numpy as np \n",
    "\n",
    "# different types of arrays\n",
    "\n",
    "scalar = np.array(5)\n",
    "vector = np.array([2,3,4])\n",
    "matrix = np.array([[2,3,4],[5,6,7]])\n",
    "\n",
    "\n",
    "print(scalar)\n",
    "print(vector)\n",
    "print(matrix)"
   ]
  },
  {
   "cell_type": "markdown",
   "id": "684ef3e0",
   "metadata": {},
   "source": [
    "### Properties of an Array"
   ]
  },
  {
   "cell_type": "code",
   "execution_count": 5,
   "id": "76b3ae4e",
   "metadata": {},
   "outputs": [
    {
     "name": "stdout",
     "output_type": "stream",
     "text": [
      "Dimention:  2\n",
      "Shape:  (2, 3)\n",
      "Size:  6\n",
      "Data Type:  int64\n"
     ]
    }
   ],
   "source": [
    "arr = np.array([[2,4,6],[8,10,12]])\n",
    "\n",
    "print(\"Dimention: \", arr.ndim)\n",
    "print(\"Shape: \", arr.shape)\n",
    "print(\"Size: \", arr.size)\n",
    "print(\"Data Type: \", arr.dtype)"
   ]
  },
  {
   "cell_type": "markdown",
   "id": "f335d51b",
   "metadata": {},
   "source": [
    "### NumPy Built-In Functions"
   ]
  },
  {
   "cell_type": "code",
   "execution_count": 15,
   "id": "74e5a1bb",
   "metadata": {},
   "outputs": [
    {
     "name": "stdout",
     "output_type": "stream",
     "text": [
      "[[1. 1. 1.]\n",
      " [1. 1. 1.]]\n",
      "[[7 7 7 7]\n",
      " [7 7 7 7]\n",
      " [7 7 7 7]]\n",
      "[ 1  4  7 10]\n"
     ]
    }
   ],
   "source": [
    "one = np.ones([2,3])\n",
    "full = np.full([3,4], 7)\n",
    "range = np.arange(1,11, 3)\n",
    "print(one)\n",
    "print(full)\n",
    "print(range)"
   ]
  },
  {
   "cell_type": "markdown",
   "id": "164623d6",
   "metadata": {},
   "source": [
    "### Array Arithimetic Operations"
   ]
  },
  {
   "cell_type": "code",
   "execution_count": 3,
   "id": "4bf08ecc",
   "metadata": {},
   "outputs": [
    {
     "name": "stdout",
     "output_type": "stream",
     "text": [
      "Sum:  [ 6  8 10]\n",
      "Subtract [-2 -2 -2]\n",
      "Muliplication [ 8 15 24]\n",
      "Division [0.5        0.6        0.66666667]\n"
     ]
    }
   ],
   "source": [
    "import numpy as np\n",
    "a = np.array([2,3,4])\n",
    "b = np.array([4,5,6])\n",
    "\n",
    "print(\"Sum: \", a + b)\n",
    "print(\"Subtract\", a - b)\n",
    "print(\"Muliplication\", a * b)\n",
    "print(\"Division\", a / b)\n",
    "\n"
   ]
  },
  {
   "cell_type": "markdown",
   "id": "1042f64b",
   "metadata": {},
   "source": [
    "### Array Comparisons Operations"
   ]
  },
  {
   "cell_type": "code",
   "execution_count": 4,
   "id": "b924535b",
   "metadata": {},
   "outputs": [
    {
     "name": "stdout",
     "output_type": "stream",
     "text": [
      "[ True  True  True]\n",
      "[False False False]\n"
     ]
    }
   ],
   "source": [
    "a = np.array([1,2,3])\n",
    "b = np.array([4,5,6])\n",
    "\n",
    "print(b > a)\n",
    "print(a == b)"
   ]
  },
  {
   "cell_type": "markdown",
   "id": "ace6f745",
   "metadata": {},
   "source": [
    "### Statistical Operations"
   ]
  },
  {
   "cell_type": "code",
   "execution_count": 8,
   "id": "1ec7f956",
   "metadata": {},
   "outputs": [
    {
     "name": "stdout",
     "output_type": "stream",
     "text": [
      "16\n",
      "6.0 5.333333333333333\n",
      "2.494438257849294\n",
      "8 2\n"
     ]
    }
   ],
   "source": [
    "x = np.array([2,6,8])\n",
    "print(np.sum(x))\n",
    "print(np.median(x), np.mean(x))\n",
    "print(np.std(x))\n",
    "print(np.max(x), np.min(x))\n"
   ]
  },
  {
   "cell_type": "markdown",
   "id": "7f4cb779",
   "metadata": {},
   "source": [
    "### Array Matrix Opeations"
   ]
  },
  {
   "cell_type": "code",
   "execution_count": null,
   "id": "fe3a67aa",
   "metadata": {},
   "outputs": [
    {
     "name": "stdout",
     "output_type": "stream",
     "text": [
      "[[2 5]\n",
      " [3 6]\n",
      " [5 7]]\n",
      "56\n",
      "[-3  6 -3]\n",
      "-1.0\n",
      "[[ 7. -3. -3.]\n",
      " [-1.  0.  1.]\n",
      " [-1.  1.  0.]]\n"
     ]
    }
   ],
   "source": [
    "a = np.array([[2,3,5],\n",
    "                [5,6,7]])\n",
    "A = a.T\n",
    "b = np.array([[8,1,0],\n",
    "                [1,3,5]])\n",
    "print(A)\n",
    "\n",
    "# Cross product is only for 3D vectors, not matrices.\n",
    "a = np.array([2, 3, 4])\n",
    "b = np.array([5, 6, 7])\n",
    "\n",
    "cross = np.cross(a, b)\n",
    "dot = np.dot(a,b)\n",
    "print(dot)\n",
    "print(cross)\n",
    "\n",
    "\n",
    "x = np.array([\n",
    "            [1,3,3],\n",
    "            [1,3,4],\n",
    "            [1,4,3]\n",
    "        ])\n",
    "print(np.linalg.det(x))\n",
    "print(np.linalg.inv(x))\n",
    "\n"
   ]
  }
 ],
 "metadata": {
  "kernelspec": {
   "display_name": "venv",
   "language": "python",
   "name": "python3"
  },
  "language_info": {
   "codemirror_mode": {
    "name": "ipython",
    "version": 3
   },
   "file_extension": ".py",
   "mimetype": "text/x-python",
   "name": "python",
   "nbconvert_exporter": "python",
   "pygments_lexer": "ipython3",
   "version": "3.13.2"
  }
 },
 "nbformat": 4,
 "nbformat_minor": 5
}
